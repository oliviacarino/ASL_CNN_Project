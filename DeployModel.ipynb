{
 "cells": [
  {
   "cell_type": "code",
   "execution_count": 4,
   "metadata": {
    "application/vnd.databricks.v1+cell": {
     "cellMetadata": {
      "byteLimit": 2048000,
      "rowLimit": 10000
     },
     "inputWidgets": {},
     "nuid": "be7efda6-9441-432c-a258-df2cd9b274e2",
     "showTitle": false,
     "title": ""
    }
   },
   "outputs": [],
   "source": [
    "import os\n",
    "import numpy as np\n",
    "import matplotlib\n",
    "import matplotlib.pyplot as plt\n",
    "\n",
    "import azureml\n",
    "from azureml.core import Workspace, Run\n",
    "from azureml.core.model import Model"
   ]
  },
  {
   "cell_type": "code",
   "execution_count": 5,
   "metadata": {
    "application/vnd.databricks.v1+cell": {
     "cellMetadata": {
      "byteLimit": 2048000,
      "rowLimit": 10000
     },
     "inputWidgets": {},
     "nuid": "27eea2d9-0ae6-4f39-b970-f27721b8bf6c",
     "showTitle": false,
     "title": ""
    }
   },
   "outputs": [],
   "source": [
    "# Connect to Azure Machine Learning (aml) Workspace\n",
    "# set aml workspace parameters here. \n",
    "subscription_id = \"c0e490ed-dbf1-4955-9ea0-597b55b9762a\"\n",
    "resource_group = \"test\"\n",
    "workspace_name = \"asl-model-workspace\" # note that this is an Azure ML Workspace (had to create it in the actual service, NOT in Databricks)\n",
    "workspace_region = \"eastus\"\n",
    "\n",
    "\n",
    "# set container and account name for data sources\n",
    "container_name = \"asl-model-deployment-container\"\n",
    "account_name = \"aslmodeldeployment\"\n",
    "\n",
    "ws = Workspace(subscription_id = subscription_id, resource_group = resource_group, workspace_name = workspace_name)"
   ]
  },
  {
   "cell_type": "code",
   "execution_count": null,
   "metadata": {
    "application/vnd.databricks.v1+cell": {
     "cellMetadata": {
      "byteLimit": 2048000,
      "rowLimit": 10000
     },
     "inputWidgets": {},
     "nuid": "3afe579e-ca37-4f69-8585-6844ae5e5fa3",
     "showTitle": false,
     "title": ""
    }
   },
   "outputs": [],
   "source": [
    "# # copy the model to local/current working directory for deployment\n",
    "# model_name = \"saved_model.pb\"\n",
    "# deploy_folder = os.getcwd() # get current working directory\n",
    "# dbutils.fs.cp('dbfs:/mnt/aslmodeldeployment/asl-model-deployment-container/' + model_name, \"file:\" + deploy_folder + \"/\" + model_name, True)"
   ]
  },
  {
   "cell_type": "code",
   "execution_count": null,
   "metadata": {
    "application/vnd.databricks.v1+cell": {
     "cellMetadata": {
      "byteLimit": 2048000,
      "rowLimit": 10000
     },
     "inputWidgets": {},
     "nuid": "a11f4a71-2c60-43a9-bbac-ead4c66ba07c",
     "showTitle": false,
     "title": ""
    }
   },
   "outputs": [],
   "source": [
    "# Register the model for deployment\n",
    "# register the model \n",
    "model_name = 'mnist-asl-cnn-model'\n",
    "mymodel = Model.register(model_name = model_name, model_path = '/dbfs/mnt/aslmodeldeployment/asl-model-deployment-container/saved_model.pb', description = \"Trained ASL CNN model\", workspace = ws )"
   ]
  },
  {
   "cell_type": "code",
   "execution_count": null,
   "metadata": {
    "application/vnd.databricks.v1+cell": {
     "cellMetadata": {
      "byteLimit": 2048000,
      "rowLimit": 10000
     },
     "inputWidgets": {},
     "nuid": "a45b7173-abc7-46b9-9470-d43582c14c3c",
     "showTitle": false,
     "title": ""
    }
   },
   "outputs": [],
   "source": [
    "!ls /dbfs/mnt/aslmodeldeployment/asl-model-deployment-container/"
   ]
  },
  {
   "cell_type": "code",
   "execution_count": null,
   "metadata": {
    "application/vnd.databricks.v1+cell": {
     "cellMetadata": {
      "byteLimit": 2048000,
      "rowLimit": 10000
     },
     "inputWidgets": {},
     "nuid": "b99d1737-141c-46cc-8d68-039a261386f6",
     "showTitle": false,
     "title": ""
    }
   },
   "outputs": [],
   "source": [
    "# Write a scoring file that will be used when the web service is called\n",
    "score = \"\"\"\n",
    "import json\n",
    "import numpy as np\n",
    "import os\n",
    "import pickle\n",
    "import joblib\n",
    "from sklearn.linear_model import LogisticRegression\n",
    "\n",
    "from azureml.core.model import Model\n",
    "\n",
    "def init():    \n",
    "    global model\n",
    "    # retreive the path to the model file using the model name\n",
    "    model_path = Model.get_model_path('{model_name}')\n",
    "    #model_path = '/dbfs/mnt/aslmodeldeployment/asl-model-deployment-container/'\n",
    "    model = joblib.load(model_path)\n",
    "    \n",
    "    \n",
    "def run(raw_data):\n",
    "    data = np.array(json.loads(raw_data)['data'])\n",
    "    \n",
    "    # make prediction\n",
    "    y_hat = model.predict(data)\n",
    "    \n",
    "    # you can return any data type as long as it is JSON-serializable\n",
    "    return y_hat.tolist()\n",
    "    \n",
    "\"\"\".format(model_name=model_name)\n",
    "\n",
    "exec(score)\n",
    "\n",
    "with open(\"score.py\", \"w\") as file:\n",
    "    file.write(score)"
   ]
  },
  {
   "cell_type": "code",
   "execution_count": null,
   "metadata": {
    "application/vnd.databricks.v1+cell": {
     "cellMetadata": {
      "byteLimit": 2048000,
      "rowLimit": 10000
     },
     "inputWidgets": {},
     "nuid": "49a0eb4f-e7b3-49a3-9074-1c910f3dcfdc",
     "showTitle": false,
     "title": ""
    }
   },
   "outputs": [],
   "source": [
    "# Write a myenv.yml file\n",
    "myenv = \"\"\"\n",
    "\n",
    "# Conda environment specification. The dependencies defined in this file will\n",
    "# be automatically provisioned for runs with userManagedDependencies=False.\n",
    "\n",
    "# Details about the Conda environment file format:\n",
    "# https://conda.io/docs/user-guide/tasks/manage-environments.html#create-env-file-manually\n",
    "\n",
    "name: project_environment\n",
    "dependencies:\n",
    "  # The python interpreter version.\n",
    "  # Currently Azure ML only supports 3.8 and later.\n",
    "- python=3.8.13\n",
    "\n",
    "- pip:\n",
    "  - azureml-defaults\n",
    "  - pyopenssl\n",
    "- scikit-learn\n",
    "channels:\n",
    "- anaconda\n",
    "- conda-forge\n",
    "    \n",
    "\"\"\"#.format(model_name=model_name)\n",
    "\n",
    "#exec(myenv)\n",
    "\n",
    "with open(\"myenv.yml\", \"w\") as file:\n",
    "    file.write(myenv)"
   ]
  },
  {
   "cell_type": "code",
   "execution_count": null,
   "metadata": {
    "application/vnd.databricks.v1+cell": {
     "cellMetadata": {
      "byteLimit": 2048000,
      "rowLimit": 10000
     },
     "inputWidgets": {},
     "nuid": "e7627e0d-59ed-4115-9954-7cf9ea770558",
     "showTitle": false,
     "title": ""
    }
   },
   "outputs": [],
   "source": [
    "# Create config file for deployment / Create a dependencies file\n",
    "# from azureml.core.conda_dependencies import CondaDependencies \n",
    "\n",
    "# myenv = CondaDependencies.create(conda_packages=['scikit-learn']) #showing how to add libs as an eg. - not needed for this model.\n",
    "\n",
    "# with open(\"myenv.yml\",\"w\") as f:\n",
    "#     f.write(myenv.serialize_to_string())"
   ]
  },
  {
   "cell_type": "code",
   "execution_count": null,
   "metadata": {
    "application/vnd.databricks.v1+cell": {
     "cellMetadata": {
      "byteLimit": 2048000,
      "rowLimit": 10000
     },
     "inputWidgets": {},
     "nuid": "aeee2049-5a0e-4623-83c7-8d96a00be8c9",
     "showTitle": false,
     "title": ""
    }
   },
   "outputs": [],
   "source": [
    "# Configure an Azure Container Instance to deploy to. / ACI Configuration\n",
    "# This will be deployed to our Azure Machine Learning Service Workspace (asl-model-workspace)\n",
    "from azureml.core.webservice import AciWebservice, Webservice\n",
    "\n",
    "myaci_config = AciWebservice.deploy_configuration(cpu_cores=1, \n",
    "            memory_gb=1, \n",
    "            tags={\"data\": \"MNIST\",  \"method\" : \"CNN\"}, \n",
    "            description='Predict ASL (MNIST) letters with a Keras CNN')"
   ]
  },
  {
   "cell_type": "code",
   "execution_count": null,
   "metadata": {
    "application/vnd.databricks.v1+cell": {
     "cellMetadata": {
      "byteLimit": 2048000,
      "rowLimit": 10000
     },
     "inputWidgets": {},
     "nuid": "d97d406f-720c-4c58-9c55-39a5066963d4",
     "showTitle": false,
     "title": ""
    }
   },
   "outputs": [],
   "source": [
    "# Configure image before deploying model as a web service\n",
    "# deploy to aci\n",
    "from azureml.core.webservice import Webservice\n",
    "from azureml.core.image import ContainerImage\n",
    "\n",
    "# configure the image\n",
    "image_config = ContainerImage.image_configuration(execution_script=\"score.py\", \n",
    "                                                runtime=\"python\", \n",
    "                                                conda_file=\"myenv.yml\")"
   ]
  },
  {
   "cell_type": "code",
   "execution_count": null,
   "metadata": {
    "application/vnd.databricks.v1+cell": {
     "cellMetadata": {
      "byteLimit": 2048000,
      "rowLimit": 10000
     },
     "inputWidgets": {},
     "nuid": "db6786fa-8d79-4e3d-9f0e-a46c1fb7e5b9",
     "showTitle": false,
     "title": ""
    }
   },
   "outputs": [],
   "source": [
    "# Deploy the model\n",
    "service = Webservice.deploy_from_model(workspace=ws,\n",
    "                                    name='mnist-asl-cnn-model',\n",
    "                                    deployment_config=myaci_config,\n",
    "                                    models=[mymodel],\n",
    "                                    image_config=image_config)\n",
    "\n",
    "service.wait_for_deployment(show_output=True)"
   ]
  },
  {
   "cell_type": "code",
   "execution_count": null,
   "metadata": {
    "application/vnd.databricks.v1+cell": {
     "cellMetadata": {
      "byteLimit": 2048000,
      "rowLimit": 10000
     },
     "inputWidgets": {},
     "nuid": "32cd4921-f89a-4cb6-befb-ed0e5262cbd4",
     "showTitle": false,
     "title": ""
    }
   },
   "outputs": [],
   "source": [
    "# Get service logs (good for when deployment fails)\n",
    "# if you already have the service object handy\n",
    "print(service.get_logs())\n",
    "\n",
    "# if you know the service name\n",
    "#print(ws.webservices()['mnist-asl-cnn-model'].get_logs())"
   ]
  },
  {
   "cell_type": "code",
   "execution_count": null,
   "metadata": {
    "application/vnd.databricks.v1+cell": {
     "cellMetadata": {},
     "inputWidgets": {},
     "nuid": "bf4bb263-0bd6-4577-87f4-babf248b46dd",
     "showTitle": false,
     "title": ""
    }
   },
   "outputs": [],
   "source": []
  }
 ],
 "metadata": {
  "application/vnd.databricks.v1+notebook": {
   "dashboards": [],
   "language": "python",
   "notebookMetadata": {
    "pythonIndentUnit": 4
   },
   "notebookName": "DeployModel",
   "notebookOrigID": 1419343042765549,
   "widgets": {}
  },
  "kernelspec": {
   "display_name": "windows_asl",
   "language": "python",
   "name": "windows_asl"
  },
  "language_info": {
   "codemirror_mode": {
    "name": "ipython",
    "version": 3
   },
   "file_extension": ".py",
   "mimetype": "text/x-python",
   "name": "python",
   "nbconvert_exporter": "python",
   "pygments_lexer": "ipython3",
   "version": "3.10.10"
  }
 },
 "nbformat": 4,
 "nbformat_minor": 1
}
